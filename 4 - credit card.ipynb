{
 "cells": [
  {
   "cell_type": "code",
   "execution_count": 1,
   "id": "f71441ca",
   "metadata": {},
   "outputs": [],
   "source": [
    "import tensorflow as tf\n",
    "import matplotlib.pyplot as plt\n",
    "import numpy as np\n",
    "import pandas as pd\n",
    "from sklearn.model_selection import train_test_split\n",
    "from sklearn.preprocessing import StandardScaler"
   ]
  },
  {
   "cell_type": "code",
   "execution_count": 2,
   "id": "d12fd284",
   "metadata": {},
   "outputs": [
    {
     "ename": "FileNotFoundError",
     "evalue": "[Errno 2] No such file or directory: 'creditcard.csv'",
     "output_type": "error",
     "traceback": [
      "\u001b[1;31m---------------------------------------------------------------------------\u001b[0m",
      "\u001b[1;31mFileNotFoundError\u001b[0m                         Traceback (most recent call last)",
      "Cell \u001b[1;32mIn[2], line 1\u001b[0m\n\u001b[1;32m----> 1\u001b[0m dataset \u001b[38;5;241m=\u001b[39m pd\u001b[38;5;241m.\u001b[39mread_csv(\u001b[38;5;124m'\u001b[39m\u001b[38;5;124mcreditcard.csv\u001b[39m\u001b[38;5;124m'\u001b[39m)\n",
      "File \u001b[1;32m~\\anaconda3\\Lib\\site-packages\\pandas\\io\\parsers\\readers.py:912\u001b[0m, in \u001b[0;36mread_csv\u001b[1;34m(filepath_or_buffer, sep, delimiter, header, names, index_col, usecols, dtype, engine, converters, true_values, false_values, skipinitialspace, skiprows, skipfooter, nrows, na_values, keep_default_na, na_filter, verbose, skip_blank_lines, parse_dates, infer_datetime_format, keep_date_col, date_parser, date_format, dayfirst, cache_dates, iterator, chunksize, compression, thousands, decimal, lineterminator, quotechar, quoting, doublequote, escapechar, comment, encoding, encoding_errors, dialect, on_bad_lines, delim_whitespace, low_memory, memory_map, float_precision, storage_options, dtype_backend)\u001b[0m\n\u001b[0;32m    899\u001b[0m kwds_defaults \u001b[38;5;241m=\u001b[39m _refine_defaults_read(\n\u001b[0;32m    900\u001b[0m     dialect,\n\u001b[0;32m    901\u001b[0m     delimiter,\n\u001b[1;32m   (...)\u001b[0m\n\u001b[0;32m    908\u001b[0m     dtype_backend\u001b[38;5;241m=\u001b[39mdtype_backend,\n\u001b[0;32m    909\u001b[0m )\n\u001b[0;32m    910\u001b[0m kwds\u001b[38;5;241m.\u001b[39mupdate(kwds_defaults)\n\u001b[1;32m--> 912\u001b[0m \u001b[38;5;28;01mreturn\u001b[39;00m _read(filepath_or_buffer, kwds)\n",
      "File \u001b[1;32m~\\anaconda3\\Lib\\site-packages\\pandas\\io\\parsers\\readers.py:577\u001b[0m, in \u001b[0;36m_read\u001b[1;34m(filepath_or_buffer, kwds)\u001b[0m\n\u001b[0;32m    574\u001b[0m _validate_names(kwds\u001b[38;5;241m.\u001b[39mget(\u001b[38;5;124m\"\u001b[39m\u001b[38;5;124mnames\u001b[39m\u001b[38;5;124m\"\u001b[39m, \u001b[38;5;28;01mNone\u001b[39;00m))\n\u001b[0;32m    576\u001b[0m \u001b[38;5;66;03m# Create the parser.\u001b[39;00m\n\u001b[1;32m--> 577\u001b[0m parser \u001b[38;5;241m=\u001b[39m TextFileReader(filepath_or_buffer, \u001b[38;5;241m*\u001b[39m\u001b[38;5;241m*\u001b[39mkwds)\n\u001b[0;32m    579\u001b[0m \u001b[38;5;28;01mif\u001b[39;00m chunksize \u001b[38;5;129;01mor\u001b[39;00m iterator:\n\u001b[0;32m    580\u001b[0m     \u001b[38;5;28;01mreturn\u001b[39;00m parser\n",
      "File \u001b[1;32m~\\anaconda3\\Lib\\site-packages\\pandas\\io\\parsers\\readers.py:1407\u001b[0m, in \u001b[0;36mTextFileReader.__init__\u001b[1;34m(self, f, engine, **kwds)\u001b[0m\n\u001b[0;32m   1404\u001b[0m     \u001b[38;5;28mself\u001b[39m\u001b[38;5;241m.\u001b[39moptions[\u001b[38;5;124m\"\u001b[39m\u001b[38;5;124mhas_index_names\u001b[39m\u001b[38;5;124m\"\u001b[39m] \u001b[38;5;241m=\u001b[39m kwds[\u001b[38;5;124m\"\u001b[39m\u001b[38;5;124mhas_index_names\u001b[39m\u001b[38;5;124m\"\u001b[39m]\n\u001b[0;32m   1406\u001b[0m \u001b[38;5;28mself\u001b[39m\u001b[38;5;241m.\u001b[39mhandles: IOHandles \u001b[38;5;241m|\u001b[39m \u001b[38;5;28;01mNone\u001b[39;00m \u001b[38;5;241m=\u001b[39m \u001b[38;5;28;01mNone\u001b[39;00m\n\u001b[1;32m-> 1407\u001b[0m \u001b[38;5;28mself\u001b[39m\u001b[38;5;241m.\u001b[39m_engine \u001b[38;5;241m=\u001b[39m \u001b[38;5;28mself\u001b[39m\u001b[38;5;241m.\u001b[39m_make_engine(f, \u001b[38;5;28mself\u001b[39m\u001b[38;5;241m.\u001b[39mengine)\n",
      "File \u001b[1;32m~\\anaconda3\\Lib\\site-packages\\pandas\\io\\parsers\\readers.py:1661\u001b[0m, in \u001b[0;36mTextFileReader._make_engine\u001b[1;34m(self, f, engine)\u001b[0m\n\u001b[0;32m   1659\u001b[0m     \u001b[38;5;28;01mif\u001b[39;00m \u001b[38;5;124m\"\u001b[39m\u001b[38;5;124mb\u001b[39m\u001b[38;5;124m\"\u001b[39m \u001b[38;5;129;01mnot\u001b[39;00m \u001b[38;5;129;01min\u001b[39;00m mode:\n\u001b[0;32m   1660\u001b[0m         mode \u001b[38;5;241m+\u001b[39m\u001b[38;5;241m=\u001b[39m \u001b[38;5;124m\"\u001b[39m\u001b[38;5;124mb\u001b[39m\u001b[38;5;124m\"\u001b[39m\n\u001b[1;32m-> 1661\u001b[0m \u001b[38;5;28mself\u001b[39m\u001b[38;5;241m.\u001b[39mhandles \u001b[38;5;241m=\u001b[39m get_handle(\n\u001b[0;32m   1662\u001b[0m     f,\n\u001b[0;32m   1663\u001b[0m     mode,\n\u001b[0;32m   1664\u001b[0m     encoding\u001b[38;5;241m=\u001b[39m\u001b[38;5;28mself\u001b[39m\u001b[38;5;241m.\u001b[39moptions\u001b[38;5;241m.\u001b[39mget(\u001b[38;5;124m\"\u001b[39m\u001b[38;5;124mencoding\u001b[39m\u001b[38;5;124m\"\u001b[39m, \u001b[38;5;28;01mNone\u001b[39;00m),\n\u001b[0;32m   1665\u001b[0m     compression\u001b[38;5;241m=\u001b[39m\u001b[38;5;28mself\u001b[39m\u001b[38;5;241m.\u001b[39moptions\u001b[38;5;241m.\u001b[39mget(\u001b[38;5;124m\"\u001b[39m\u001b[38;5;124mcompression\u001b[39m\u001b[38;5;124m\"\u001b[39m, \u001b[38;5;28;01mNone\u001b[39;00m),\n\u001b[0;32m   1666\u001b[0m     memory_map\u001b[38;5;241m=\u001b[39m\u001b[38;5;28mself\u001b[39m\u001b[38;5;241m.\u001b[39moptions\u001b[38;5;241m.\u001b[39mget(\u001b[38;5;124m\"\u001b[39m\u001b[38;5;124mmemory_map\u001b[39m\u001b[38;5;124m\"\u001b[39m, \u001b[38;5;28;01mFalse\u001b[39;00m),\n\u001b[0;32m   1667\u001b[0m     is_text\u001b[38;5;241m=\u001b[39mis_text,\n\u001b[0;32m   1668\u001b[0m     errors\u001b[38;5;241m=\u001b[39m\u001b[38;5;28mself\u001b[39m\u001b[38;5;241m.\u001b[39moptions\u001b[38;5;241m.\u001b[39mget(\u001b[38;5;124m\"\u001b[39m\u001b[38;5;124mencoding_errors\u001b[39m\u001b[38;5;124m\"\u001b[39m, \u001b[38;5;124m\"\u001b[39m\u001b[38;5;124mstrict\u001b[39m\u001b[38;5;124m\"\u001b[39m),\n\u001b[0;32m   1669\u001b[0m     storage_options\u001b[38;5;241m=\u001b[39m\u001b[38;5;28mself\u001b[39m\u001b[38;5;241m.\u001b[39moptions\u001b[38;5;241m.\u001b[39mget(\u001b[38;5;124m\"\u001b[39m\u001b[38;5;124mstorage_options\u001b[39m\u001b[38;5;124m\"\u001b[39m, \u001b[38;5;28;01mNone\u001b[39;00m),\n\u001b[0;32m   1670\u001b[0m )\n\u001b[0;32m   1671\u001b[0m \u001b[38;5;28;01massert\u001b[39;00m \u001b[38;5;28mself\u001b[39m\u001b[38;5;241m.\u001b[39mhandles \u001b[38;5;129;01mis\u001b[39;00m \u001b[38;5;129;01mnot\u001b[39;00m \u001b[38;5;28;01mNone\u001b[39;00m\n\u001b[0;32m   1672\u001b[0m f \u001b[38;5;241m=\u001b[39m \u001b[38;5;28mself\u001b[39m\u001b[38;5;241m.\u001b[39mhandles\u001b[38;5;241m.\u001b[39mhandle\n",
      "File \u001b[1;32m~\\anaconda3\\Lib\\site-packages\\pandas\\io\\common.py:859\u001b[0m, in \u001b[0;36mget_handle\u001b[1;34m(path_or_buf, mode, encoding, compression, memory_map, is_text, errors, storage_options)\u001b[0m\n\u001b[0;32m    854\u001b[0m \u001b[38;5;28;01melif\u001b[39;00m \u001b[38;5;28misinstance\u001b[39m(handle, \u001b[38;5;28mstr\u001b[39m):\n\u001b[0;32m    855\u001b[0m     \u001b[38;5;66;03m# Check whether the filename is to be opened in binary mode.\u001b[39;00m\n\u001b[0;32m    856\u001b[0m     \u001b[38;5;66;03m# Binary mode does not support 'encoding' and 'newline'.\u001b[39;00m\n\u001b[0;32m    857\u001b[0m     \u001b[38;5;28;01mif\u001b[39;00m ioargs\u001b[38;5;241m.\u001b[39mencoding \u001b[38;5;129;01mand\u001b[39;00m \u001b[38;5;124m\"\u001b[39m\u001b[38;5;124mb\u001b[39m\u001b[38;5;124m\"\u001b[39m \u001b[38;5;129;01mnot\u001b[39;00m \u001b[38;5;129;01min\u001b[39;00m ioargs\u001b[38;5;241m.\u001b[39mmode:\n\u001b[0;32m    858\u001b[0m         \u001b[38;5;66;03m# Encoding\u001b[39;00m\n\u001b[1;32m--> 859\u001b[0m         handle \u001b[38;5;241m=\u001b[39m \u001b[38;5;28mopen\u001b[39m(\n\u001b[0;32m    860\u001b[0m             handle,\n\u001b[0;32m    861\u001b[0m             ioargs\u001b[38;5;241m.\u001b[39mmode,\n\u001b[0;32m    862\u001b[0m             encoding\u001b[38;5;241m=\u001b[39mioargs\u001b[38;5;241m.\u001b[39mencoding,\n\u001b[0;32m    863\u001b[0m             errors\u001b[38;5;241m=\u001b[39merrors,\n\u001b[0;32m    864\u001b[0m             newline\u001b[38;5;241m=\u001b[39m\u001b[38;5;124m\"\u001b[39m\u001b[38;5;124m\"\u001b[39m,\n\u001b[0;32m    865\u001b[0m         )\n\u001b[0;32m    866\u001b[0m     \u001b[38;5;28;01melse\u001b[39;00m:\n\u001b[0;32m    867\u001b[0m         \u001b[38;5;66;03m# Binary mode\u001b[39;00m\n\u001b[0;32m    868\u001b[0m         handle \u001b[38;5;241m=\u001b[39m \u001b[38;5;28mopen\u001b[39m(handle, ioargs\u001b[38;5;241m.\u001b[39mmode)\n",
      "\u001b[1;31mFileNotFoundError\u001b[0m: [Errno 2] No such file or directory: 'creditcard.csv'"
     ]
    }
   ],
   "source": [
    "dataset = pd.read_csv('creditcard.csv')"
   ]
  },
  {
   "cell_type": "code",
   "execution_count": null,
   "id": "d7653631",
   "metadata": {},
   "outputs": [],
   "source": [
    "sc = StandardScaler()\n",
    "dataset['Time']=sc.fit_transform(dataset['Time'].values.reshape(-1,1))\n",
    "dataset['Amount']=sc.fit_transform(dataset['Amount'].values.reshape(-1,1))"
   ]
  },
  {
   "cell_type": "code",
   "execution_count": 4,
   "id": "e8f9d7f5",
   "metadata": {},
   "outputs": [],
   "source": [
    "raw_data=dataset.values"
   ]
  },
  {
   "cell_type": "code",
   "execution_count": 5,
   "id": "f0dacc41",
   "metadata": {},
   "outputs": [],
   "source": [
    "labels=raw_data[:,-1]\n",
    "data=raw_data[:,0:-1]"
   ]
  },
  {
   "cell_type": "code",
   "execution_count": 6,
   "id": "eaacb0ca",
   "metadata": {},
   "outputs": [],
   "source": [
    "train_data,test_data,train_labels,test_labels=train_test_split(data,labels,test_size=0.2)"
   ]
  },
  {
   "cell_type": "code",
   "execution_count": 7,
   "id": "c6b0c943",
   "metadata": {},
   "outputs": [],
   "source": [
    "min_val=tf.reduce_min(train_data)\n",
    "max_val=tf.reduce_max(train_data)\n",
    "\n",
    "train_data=(train_data - min_val)/(max_val - min_val)\n",
    "test_data=(test_data - min_val)/(max_val - min_val)\n",
    "\n",
    "train_labels=train_labels.astype(bool)\n",
    "test_labels=test_labels.astype(bool)"
   ]
  },
  {
   "cell_type": "code",
   "execution_count": 8,
   "id": "96df28a4",
   "metadata": {},
   "outputs": [],
   "source": [
    "normal_train_data = train_data[~train_labels]\n",
    "normal_test_data=test_data[~test_labels]\n",
    "\n",
    "fraud_train_data=train_data[train_labels]\n",
    "fraud_test_data=test_data[test_labels]"
   ]
  },
  {
   "cell_type": "code",
   "execution_count": 9,
   "id": "4787d670",
   "metadata": {},
   "outputs": [],
   "source": [
    "nb_epoch=10\n",
    "batch_size=64\n",
    "input_dim=normal_train_data.shape[1]\n",
    "encoding_dim=14\n",
    "hidden_dim1 = int(encoding_dim / 2)\n",
    "hidden_dim2 = 4\n",
    "learning_rate = 1e-7"
   ]
  },
  {
   "cell_type": "code",
   "execution_count": 10,
   "id": "3ab45a22",
   "metadata": {},
   "outputs": [
    {
     "name": "stdout",
     "output_type": "stream",
     "text": [
      "Model: \"model\"\n",
      "_________________________________________________________________\n",
      " Layer (type)                Output Shape              Param #   \n",
      "=================================================================\n",
      " input_1 (InputLayer)        [(None, 30)]              0         \n",
      "                                                                 \n",
      " dense (Dense)               (None, 14)                434       \n",
      "                                                                 \n",
      " dropout (Dropout)           (None, 14)                0         \n",
      "                                                                 \n",
      " dense_1 (Dense)             (None, 7)                 105       \n",
      "                                                                 \n",
      " dense_2 (Dense)             (None, 4)                 32        \n",
      "                                                                 \n",
      " dense_3 (Dense)             (None, 7)                 35        \n",
      "                                                                 \n",
      " dropout_1 (Dropout)         (None, 7)                 0         \n",
      "                                                                 \n",
      " dense_4 (Dense)             (None, 14)                112       \n",
      "                                                                 \n",
      " dense_5 (Dense)             (None, 30)                450       \n",
      "                                                                 \n",
      "=================================================================\n",
      "Total params: 1168 (4.56 KB)\n",
      "Trainable params: 1168 (4.56 KB)\n",
      "Non-trainable params: 0 (0.00 Byte)\n",
      "_________________________________________________________________\n"
     ]
    }
   ],
   "source": [
    "#input layer\n",
    "input_layer = tf.keras.layers.Input(shape=(input_dim,))\n",
    "\n",
    "#Encoder\n",
    "encoder = tf.keras.layers.Dense(encoding_dim,activation=\"tanh\",activity_regularizer = tf.keras.regularizers.l2(learning_rate))(input_layer)\n",
    "encoder = tf.keras.layers.Dropout(0.2)(encoder)\n",
    "encoder = tf.keras.layers.Dense(hidden_dim1,activation='relu')(encoder)\n",
    "encoder = tf.keras.layers.Dense(hidden_dim2,activation=tf.nn.leaky_relu)(encoder)\n",
    "\n",
    "#Decoder\n",
    "decoder = tf.keras.layers.Dense(hidden_dim1,activation='relu')(encoder)\n",
    "decoder = tf.keras.layers.Dropout(0.2)(decoder)\n",
    "decoder = tf.keras.layers.Dense(encoding_dim,activation='relu')(decoder)\n",
    "decoder = tf.keras.layers.Dense(input_dim,activation='tanh')(decoder)\n",
    "\n",
    "#Autoencoder\n",
    "autoencoder = tf.keras.Model(inputs = input_layer,outputs = decoder)\n",
    "autoencoder.summary()"
   ]
  },
  {
   "cell_type": "code",
   "execution_count": 11,
   "id": "1d047e14",
   "metadata": {},
   "outputs": [],
   "source": [
    "cp = tf.keras.callbacks.ModelCheckpoint(filepath=\"autoencoder_fraud.h5\",mode='min',monitor='val_loss',verbose=2,save_best_only=True)\n",
    "#Define our early stopping\n",
    "early_stop = tf.keras.callbacks.EarlyStopping(\n",
    "                monitor='val_loss',\n",
    "                min_delta=0.0001,\n",
    "                patience=10,\n",
    "                verbose=11,\n",
    "                mode='min',\n",
    "                restore_best_weights=True\n",
    ")"
   ]
  },
  {
   "cell_type": "code",
   "execution_count": 12,
   "id": "9de2b56f",
   "metadata": {},
   "outputs": [],
   "source": [
    "autoencoder.compile(metrics=['accuracy'],loss= 'mean_squared_error',optimizer='adam')"
   ]
  },
  {
   "cell_type": "code",
   "execution_count": 13,
   "id": "66d61d4d",
   "metadata": {},
   "outputs": [
    {
     "name": "stdout",
     "output_type": "stream",
     "text": [
      "Epoch 1/10\n",
      "3554/3554 [==============================] - ETA: 0s - loss: 0.0053 - accuracy: 0.0593\n",
      "Epoch 1: val_loss improved from inf to 0.00002, saving model to autoencoder_fraud.h5\n",
      "3554/3554 [==============================] - 23s 5ms/step - loss: 0.0053 - accuracy: 0.0593 - val_loss: 1.9977e-05 - val_accuracy: 0.0610\n",
      "Epoch 2/10\n",
      "  13/3554 [..............................] - ETA: 15s - loss: 1.9952e-05 - accuracy: 0.0457"
     ]
    },
    {
     "name": "stderr",
     "output_type": "stream",
     "text": [
      "C:\\Users\\mohammedaatif\\AppData\\Local\\Programs\\Python\\Python310\\lib\\site-packages\\keras\\src\\engine\\training.py:3079: UserWarning: You are saving your model as an HDF5 file via `model.save()`. This file format is considered legacy. We recommend using instead the native Keras format, e.g. `model.save('my_model.keras')`.\n",
      "  saving_api.save_model(\n"
     ]
    },
    {
     "name": "stdout",
     "output_type": "stream",
     "text": [
      "3545/3554 [============================>.] - ETA: 0s - loss: 1.9334e-05 - accuracy: 0.0626\n",
      "Epoch 2: val_loss did not improve from 0.00002\n",
      "3554/3554 [==============================] - 18s 5ms/step - loss: 1.9329e-05 - accuracy: 0.0627 - val_loss: 1.9981e-05 - val_accuracy: 0.0675\n",
      "Epoch 3/10\n",
      "3553/3554 [============================>.] - ETA: 0s - loss: 1.9451e-05 - accuracy: 0.0626\n",
      "Epoch 3: val_loss did not improve from 0.00002\n",
      "3554/3554 [==============================] - 18s 5ms/step - loss: 1.9454e-05 - accuracy: 0.0626 - val_loss: 2.0479e-05 - val_accuracy: 0.0287\n",
      "Epoch 4/10\n",
      "3554/3554 [==============================] - ETA: 0s - loss: 1.9537e-05 - accuracy: 0.0621\n",
      "Epoch 4: val_loss did not improve from 0.00002\n",
      "3554/3554 [==============================] - 18s 5ms/step - loss: 1.9537e-05 - accuracy: 0.0621 - val_loss: 2.0234e-05 - val_accuracy: 0.0337\n",
      "Epoch 5/10\n",
      "3544/3554 [============================>.] - ETA: 0s - loss: 1.9568e-05 - accuracy: 0.0592\n",
      "Epoch 5: val_loss did not improve from 0.00002\n",
      "3554/3554 [==============================] - 18s 5ms/step - loss: 1.9561e-05 - accuracy: 0.0592 - val_loss: 2.0338e-05 - val_accuracy: 0.0675\n",
      "Epoch 6/10\n",
      "3553/3554 [============================>.] - ETA: 0s - loss: 1.9531e-05 - accuracy: 0.0622\n",
      "Epoch 6: val_loss did not improve from 0.00002\n",
      "3554/3554 [==============================] - 18s 5ms/step - loss: 1.9531e-05 - accuracy: 0.0622 - val_loss: 2.0286e-05 - val_accuracy: 0.0248\n",
      "Epoch 7/10\n",
      "3544/3554 [============================>.] - ETA: 0s - loss: 1.9528e-05 - accuracy: 0.0616\n",
      "Epoch 7: val_loss did not improve from 0.00002\n",
      "3554/3554 [==============================] - 18s 5ms/step - loss: 1.9526e-05 - accuracy: 0.0615 - val_loss: 2.0203e-05 - val_accuracy: 0.0343\n",
      "Epoch 8/10\n",
      "3547/3554 [============================>.] - ETA: 0s - loss: 1.9513e-05 - accuracy: 0.0604\n",
      "Epoch 8: val_loss did not improve from 0.00002\n",
      "3554/3554 [==============================] - 19s 5ms/step - loss: 1.9515e-05 - accuracy: 0.0606 - val_loss: 2.0242e-05 - val_accuracy: 0.0343\n",
      "Epoch 9/10\n",
      "3544/3554 [============================>.] - ETA: 0s - loss: 1.9509e-05 - accuracy: 0.0575\n",
      "Epoch 9: val_loss did not improve from 0.00002\n",
      "3554/3554 [==============================] - 18s 5ms/step - loss: 1.9509e-05 - accuracy: 0.0576 - val_loss: 2.0344e-05 - val_accuracy: 0.0337\n",
      "Epoch 10/10\n",
      "3549/3554 [============================>.] - ETA: 0s - loss: 1.9505e-05 - accuracy: 0.0621\n",
      "Epoch 10: val_loss did not improve from 0.00002\n",
      "3554/3554 [==============================] - 19s 5ms/step - loss: 1.9507e-05 - accuracy: 0.0621 - val_loss: 2.0304e-05 - val_accuracy: 0.0675\n"
     ]
    }
   ],
   "source": [
    "history = autoencoder.fit(normal_train_data,normal_train_data,epochs = nb_epoch,\n",
    "                         batch_size = batch_size,shuffle = True,\n",
    "                         validation_data = (test_data,test_data),\n",
    "                         verbose=1,\n",
    "                         callbacks = [cp,early_stop]).history"
   ]
  },
  {
   "cell_type": "code",
   "execution_count": 14,
   "id": "501d6adb",
   "metadata": {},
   "outputs": [
    {
     "data": {
      "image/png": "[encoded data removed]",
      "text/plain": [
       "<Figure size 640x480 with 1 Axes>"
      ]
     },
     "metadata": {},
     "output_type": "display_data"
    }
   ],
   "source": [
    "plt.plot(history['loss'],linewidth = 2,label = 'Train')\n",
    "plt.plot(history['val_loss'],linewidth = 2,label = 'Test')\n",
    "plt.legend(loc='upper right')\n",
    "plt.title('Model Loss')\n",
    "plt.ylabel('Loss')\n",
    "plt.xlabel('Epoch')\n",
    "\n",
    "#plt.ylim(ymin=0.70,ymax=1)\n",
    "\n",
    "plt.show()"
   ]
  },
  {
   "cell_type": "code",
   "execution_count": null,
   "id": "8849809e",
   "metadata": {},
   "outputs": [],
   "source": []
  }
 ],
 "metadata": {
  "kernelspec": {
   "display_name": "Python 3 (ipykernel)",
   "language": "python",
   "name": "python3"
  },
  "language_info": {
   "codemirror_mode": {
    "name": "ipython",
    "version": 3
   },
   "file_extension": ".py",
   "mimetype": "text/x-python",
   "name": "python",
   "nbconvert_exporter": "python",
   "pygments_lexer": "ipython3",
   "version": "3.11.5"
  }
 },
 "nbformat": 4,
 "nbformat_minor": 5
}
